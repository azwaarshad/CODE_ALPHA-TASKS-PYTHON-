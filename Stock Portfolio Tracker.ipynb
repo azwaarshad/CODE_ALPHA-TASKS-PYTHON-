{
 "cells": [
  {
   "cell_type": "markdown",
   "id": "be9116c4",
   "metadata": {},
   "source": [
    "# STOCK PORTFOLIO TRACKER"
   ]
  },
  {
   "cell_type": "code",
   "execution_count": 5,
   "id": "d811314a",
   "metadata": {},
   "outputs": [
    {
     "name": "stdout",
     "output_type": "stream",
     "text": [
      "Requirement already satisfied: yfinance in c:\\users\\ht\\anaconda3\\lib\\site-packages (0.2.43)Note: you may need to restart the kernel to use updated packages.\n",
      "Requirement already satisfied: pandas>=1.3.0 in c:\\users\\ht\\anaconda3\\lib\\site-packages (from yfinance) (1.3.4)\n",
      "Requirement already satisfied: numpy>=1.16.5 in c:\\users\\ht\\anaconda3\\lib\\site-packages (from yfinance) (1.20.3)\n",
      "Requirement already satisfied: platformdirs>=2.0.0 in c:\\users\\ht\\anaconda3\\lib\\site-packages (from yfinance) (4.3.1)\n",
      "Requirement already satisfied: pytz>=2022.5 in c:\\users\\ht\\anaconda3\\lib\\site-packages (from yfinance) (2024.1)\n",
      "Requirement already satisfied: multitasking>=0.0.7 in c:\\users\\ht\\anaconda3\\lib\\site-packages (from yfinance) (0.0.11)\n",
      "\n",
      "Requirement already satisfied: frozendict>=2.3.4 in c:\\users\\ht\\anaconda3\\lib\\site-packages (from yfinance) (2.4.4)\n",
      "Requirement already satisfied: html5lib>=1.1 in c:\\users\\ht\\anaconda3\\lib\\site-packages (from yfinance) (1.1)\n",
      "Requirement already satisfied: beautifulsoup4>=4.11.1 in c:\\users\\ht\\anaconda3\\lib\\site-packages (from yfinance) (4.12.3)\n",
      "Requirement already satisfied: requests>=2.31 in c:\\users\\ht\\anaconda3\\lib\\site-packages (from yfinance) (2.32.3)\n",
      "Requirement already satisfied: lxml>=4.9.1 in c:\\users\\ht\\anaconda3\\lib\\site-packages (from yfinance) (5.3.0)\n",
      "Requirement already satisfied: peewee>=3.16.2 in c:\\users\\ht\\anaconda3\\lib\\site-packages (from yfinance) (3.17.6)\n",
      "Requirement already satisfied: soupsieve>1.2 in c:\\users\\ht\\anaconda3\\lib\\site-packages (from beautifulsoup4>=4.11.1->yfinance) (2.2.1)\n",
      "Requirement already satisfied: six>=1.9 in c:\\users\\ht\\anaconda3\\lib\\site-packages (from html5lib>=1.1->yfinance) (1.16.0)\n",
      "Requirement already satisfied: webencodings in c:\\users\\ht\\anaconda3\\lib\\site-packages (from html5lib>=1.1->yfinance) (0.5.1)\n",
      "Requirement already satisfied: python-dateutil>=2.7.3 in c:\\users\\ht\\anaconda3\\lib\\site-packages (from pandas>=1.3.0->yfinance) (2.8.2)\n",
      "Requirement already satisfied: idna<4,>=2.5 in c:\\users\\ht\\anaconda3\\lib\\site-packages (from requests>=2.31->yfinance) (3.2)\n",
      "Requirement already satisfied: urllib3<3,>=1.21.1 in c:\\users\\ht\\anaconda3\\lib\\site-packages (from requests>=2.31->yfinance) (1.26.7)\n",
      "Requirement already satisfied: certifi>=2017.4.17 in c:\\users\\ht\\anaconda3\\lib\\site-packages (from requests>=2.31->yfinance) (2021.10.8)\n",
      "Requirement already satisfied: charset-normalizer<4,>=2 in c:\\users\\ht\\anaconda3\\lib\\site-packages (from requests>=2.31->yfinance) (2.0.4)\n"
     ]
    }
   ],
   "source": [
    "pip install yfinance"
   ]
  },
  {
   "cell_type": "code",
   "execution_count": 1,
   "id": "deab90c4",
   "metadata": {},
   "outputs": [
    {
     "name": "stdout",
     "output_type": "stream",
     "text": [
      "Added 10 shares of AAPL.\n",
      "Added 5 shares of GOOGL.\n",
      "Added 8 shares of MSFT.\n",
      "Removed 2 shares of GOOGL.\n",
      "\n",
      "Current Portfolio:\n",
      "AAPL: 10 shares @ 222.50 USD = 2225.00 USD\n",
      "GOOGL: 3 shares @ 157.46 USD = 472.38 USD\n",
      "MSFT: 8 shares @ 430.59 USD = 3444.72 USD\n",
      "\n",
      "Total Portfolio Value: 6142.10 USD\n"
     ]
    }
   ],
   "source": [
    "import yfinance as yf\n",
    "\n",
    "class StockPortfolio:\n",
    "    def __init__(self):\n",
    "        self.portfolio = {}  \n",
    "\n",
    "    def add_stock(self, ticker, shares):\n",
    "        \"\"\"Add a stock and the number of shares to the portfolio.\"\"\"\n",
    "        if ticker in self.portfolio:\n",
    "            self.portfolio[ticker] += shares\n",
    "        else:\n",
    "            self.portfolio[ticker] = shares\n",
    "        print(f\"Added {shares} shares of {ticker}.\")\n",
    "\n",
    "    def remove_stock(self, ticker, shares):\n",
    "        \"\"\"Remove a specific number of shares of a stock from the portfolio.\"\"\"\n",
    "        if ticker in self.portfolio:\n",
    "            if shares >= self.portfolio[ticker]:\n",
    "                del self.portfolio[ticker]\n",
    "                print(f\"Removed all shares of {ticker}.\")\n",
    "            else:\n",
    "                self.portfolio[ticker] -= shares\n",
    "                print(f\"Removed {shares} shares of {ticker}.\")\n",
    "        else:\n",
    "            print(f\"{ticker} not found in portfolio.\")\n",
    "\n",
    "    def get_stock_price(self, ticker):\n",
    "        \"\"\"Fetch real-time stock price using yfinance.\"\"\"\n",
    "        stock = yf.Ticker(ticker)\n",
    "        stock_info = stock.history(period='1d')\n",
    "        return stock_info['Close'][0]\n",
    "\n",
    "    def portfolio_value(self):\n",
    "        \"\"\"Calculate and display the total value of the portfolio.\"\"\"\n",
    "        total_value = 0\n",
    "        print(\"\\nCurrent Portfolio:\")\n",
    "        for ticker, shares in self.portfolio.items():\n",
    "            stock_price = self.get_stock_price(ticker)\n",
    "            value = shares * stock_price\n",
    "            total_value += value\n",
    "            print(f\"{ticker}: {shares} shares @ {stock_price:.2f} USD = {value:.2f} USD\")\n",
    "        print(f\"\\nTotal Portfolio Value: {total_value:.2f} USD\")\n",
    "        return total_value\n",
    "\n",
    "def main():\n",
    "    portfolio = StockPortfolio()\n",
    "\n",
    "    portfolio.add_stock('AAPL', 10)\n",
    "    portfolio.add_stock('GOOGL', 5)\n",
    "    portfolio.add_stock('MSFT', 8)\n",
    "\n",
    "    portfolio.remove_stock('GOOGL', 2)\n",
    "\n",
    "    portfolio.portfolio_value()\n",
    "\n",
    "if __name__ == \"__main__\":\n",
    "    main()"
   ]
  },
  {
   "cell_type": "code",
   "execution_count": null,
   "id": "105b0c1b",
   "metadata": {},
   "outputs": [],
   "source": []
  }
 ],
 "metadata": {
  "kernelspec": {
   "display_name": "Python 3 (ipykernel)",
   "language": "python",
   "name": "python3"
  },
  "language_info": {
   "codemirror_mode": {
    "name": "ipython",
    "version": 3
   },
   "file_extension": ".py",
   "mimetype": "text/x-python",
   "name": "python",
   "nbconvert_exporter": "python",
   "pygments_lexer": "ipython3",
   "version": "3.9.7"
  }
 },
 "nbformat": 4,
 "nbformat_minor": 5
}
